{
 "cells": [
  {
   "cell_type": "code",
   "execution_count": 2,
   "metadata": {},
   "outputs": [],
   "source": [
    "import numpy as np\n",
    "\n",
    "blocks = [block.splitlines() for block in open(\"input.txt\").read().split(\"\\n\\n\")]\n",
    "\n",
    "def above_to_mirror(block: np.ndarray):\n",
    "    for i in range (1, length:= len(block)):\n",
    "        smudge = 0\n",
    "        for ii, ij in zip(range (i , length), range(i - 1, -1, -1)):\n",
    "            smudge += sum(block[ii] != block[ij])\n",
    "            if smudge > 1:\n",
    "                break\n",
    "        if smudge == 1:\n",
    "            return i\n",
    "    return 0"
   ]
  },
  {
   "cell_type": "code",
   "execution_count": 3,
   "metadata": {},
   "outputs": [
    {
     "data": {
      "application/vnd.jupyter.widget-view+json": {
       "model_id": "60140e950d04455cb619113879957e78",
       "version_major": 2,
       "version_minor": 0
      },
      "text/plain": [
       "  0%|          | 0/100 [00:00<?, ?it/s]"
      ]
     },
     "metadata": {},
     "output_type": "display_data"
    },
    {
     "name": "stdout",
     "output_type": "stream",
     "text": [
      "35915\n"
     ]
    }
   ],
   "source": [
    "from tqdm.notebook import tqdm\n",
    "\n",
    "sol = 0\n",
    "for block in tqdm(blocks):\n",
    "    block = np.array([[c for c in line] for line in block])\n",
    "    rows = above_to_mirror(block)\n",
    "    cols = above_to_mirror(block.T)\n",
    "    sol += (rows * 100 + cols)\n",
    "\n",
    "print(sol)"
   ]
  }
 ],
 "metadata": {
  "kernelspec": {
   "display_name": "advent-of-code-uU6CASMp-py3.11",
   "language": "python",
   "name": "python3"
  },
  "language_info": {
   "codemirror_mode": {
    "name": "ipython",
    "version": 3
   },
   "file_extension": ".py",
   "mimetype": "text/x-python",
   "name": "python",
   "nbconvert_exporter": "python",
   "pygments_lexer": "ipython3",
   "version": "3.11.0"
  }
 },
 "nbformat": 4,
 "nbformat_minor": 2
}

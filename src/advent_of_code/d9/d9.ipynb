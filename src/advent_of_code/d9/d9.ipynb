{
 "cells": [
  {
   "cell_type": "code",
   "execution_count": null,
   "metadata": {},
   "outputs": [],
   "source": [
    "input_file = open(\"input.txt\").read()"
   ]
  },
  {
   "cell_type": "code",
   "execution_count": null,
   "metadata": {},
   "outputs": [],
   "source": [
    "seqs = [[int(num) for num in seq.split()] for seq in input_file.splitlines()]"
   ]
  },
  {
   "cell_type": "code",
   "execution_count": null,
   "metadata": {},
   "outputs": [],
   "source": [
    "def extrapolate(xs):\n",
    "    if not xs:\n",
    "        return 0\n",
    "    diffs = [b - a for a, b in zip(xs, xs[1:])]\n",
    "    return xs[-1] + extrapolate(diffs)"
   ]
  },
  {
   "cell_type": "code",
   "execution_count": null,
   "metadata": {},
   "outputs": [],
   "source": [
    "def extrapolate_r(xs):\n",
    "    if not xs:\n",
    "        return 0\n",
    "    diffs = [b - a for a, b in zip(xs, xs[1:])]\n",
    "    return xs[0] - extrapolate_r(diffs)"
   ]
  },
  {
   "cell_type": "code",
   "execution_count": null,
   "metadata": {},
   "outputs": [],
   "source": [
    "def iterative_approach(seq) -> int:\n",
    "    is_all_zeros = False\n",
    "    last_vals = []\n",
    "\n",
    "    while not is_all_zeros:\n",
    "        print(seq)\n",
    "        n = len(seq)\n",
    "        last_vals.append(seq[-1])  # remember all last elements for each iterpolation\n",
    "        new_seq = [\n",
    "            seq[i + 1] - seq[i] for i in range(0, n - 1)\n",
    "        ]  # build new diff sequence\n",
    "        seq = new_seq\n",
    "        is_all_zeros = all(\n",
    "            (el == 0 for el in seq)\n",
    "        )  # check for terminating all 0s conditions\n",
    "\n",
    "    return sum(last_vals)"
   ]
  },
  {
   "cell_type": "code",
   "execution_count": null,
   "metadata": {},
   "outputs": [],
   "source": [
    "sum((extrapolate_r(seq) for seq in seqs))"
   ]
  },
  {
   "cell_type": "code",
   "execution_count": null,
   "metadata": {},
   "outputs": [],
   "source": []
  }
 ],
 "metadata": {
  "kernelspec": {
   "display_name": "advent-of-code-uU6CASMp-py3.11",
   "language": "python",
   "name": "python3"
  },
  "language_info": {
   "codemirror_mode": {
    "name": "ipython",
    "version": 3
   },
   "file_extension": ".py",
   "mimetype": "text/x-python",
   "name": "python",
   "nbconvert_exporter": "python",
   "pygments_lexer": "ipython3",
   "version": "3.11.0"
  }
 },
 "nbformat": 4,
 "nbformat_minor": 2
}

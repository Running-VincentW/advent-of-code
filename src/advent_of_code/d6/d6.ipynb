{
 "cells": [
  {
   "cell_type": "markdown",
   "metadata": {},
   "source": [
    "Let's define the distance traveled as a function to the variable $j$. The race is raced for a fixed time $T$.\n",
    "$$f(j) = j×(T−j)$$\n",
    "\n",
    "which equates to a downwards parabola\n",
    "$$f(j) = -j^2 + Tj$$\n",
    "\n",
    "To find the highest distance travelled, we find the max value of this parabola.\n",
    "The vertex of equation of form $f(x) = ax^2 + bx + c$ is found at $x = \\frac{-b}{2a}$.\n",
    "So in this case, the vertex is at $x = \\frac{-T}{2(-1)}$, thus $x = \\frac{T}{2}$.\n",
    "\n",
    "As we are more concerened about beating the race record $r$, we need to find $f(j) > r$. We need to solve this equation.\n",
    "$$ j x (T - j) > r$$\n",
    "Let's solve this quadratic equation.\n",
    "$$ j x (T - j) - r> 0$$\n",
    "$$ j^2 - Tj + r < 0$$\n",
    "\n",
    "The roots of the equation are.\n",
    "$$ j = \\frac{-(-T) \\pm \\sqrt{T^2 - 4(1)(r)}}{2(1)}$$\n",
    "$$ j = \\frac{T \\pm \\sqrt{T^2 - 4r}}{2}$$\n",
    "\n",
    "If $T^2 - 4r <0$, There are no solutions.\n",
    "If $T^2 - 4r = 0$ There's exactly one solution.\n",
    "If $T^2 - 4r > 0$, There's two solutions\n",
    "\n",
    "Assume there are two solutions, since we are solving for $f(j)$ above $r$. We consider the range within the two solutions as valid solution. \n",
    "\n",
    "We also need to take integer values as solutions only for $j$, as we are holding the button for $j$ complete seconds."
   ]
  },
  {
   "cell_type": "code",
   "execution_count": 4,
   "metadata": {},
   "outputs": [
    {
     "name": "stdout",
     "output_type": "stream",
     "text": [
      "Values of j satisfying j * (T - j) > r:\n",
      "Solution 1: j = 20.00\n",
      "Solution 2: j = 10.00\n"
     ]
    }
   ],
   "source": [
    "import math\n",
    "\n",
    "\n",
    "def calculate_j(T, r):\n",
    "    discriminant = T**2 - 4 * r\n",
    "\n",
    "    if discriminant < 0:\n",
    "        return []  # No real roots within the range\n",
    "    elif discriminant == 0:\n",
    "        j = (T + math.sqrt(discriminant)) / 2\n",
    "        return [j]  # Exactly one solution\n",
    "    else:\n",
    "        j1 = (T + math.sqrt(discriminant)) / 2\n",
    "        j2 = (T - math.sqrt(discriminant)) / 2\n",
    "        return [j1, j2]  # Two solutions\n",
    "\n",
    "\n",
    "# Set the values\n",
    "T = 30\n",
    "r = 200\n",
    "\n",
    "# Calculate the values of j\n",
    "j_values = calculate_j(T, r)\n",
    "\n",
    "# Display the results\n",
    "print(\"Values of j satisfying j * (T - j) > r:\")\n",
    "if len(j_values) == 0:\n",
    "    print(\"No real solutions within the range.\")\n",
    "else:\n",
    "    for idx, j in enumerate(j_values, start=1):\n",
    "        print(f\"Solution {idx}: j = {j:.2f}\")"
   ]
  },
  {
   "cell_type": "code",
   "execution_count": 5,
   "metadata": {},
   "outputs": [],
   "source": [
    "input = \"\"\"Time:        34     90     89     86\n",
    "Distance:   204   1713   1210   1780\"\"\""
   ]
  },
  {
   "cell_type": "code",
   "execution_count": 6,
   "metadata": {},
   "outputs": [],
   "source": [
    "part_2 = True\n",
    "if part_2:\n",
    "    new_input = \"\\n\".join(x.replace(\" \", \"\") for x in input.splitlines())\n",
    "    input = new_input"
   ]
  },
  {
   "cell_type": "code",
   "execution_count": 7,
   "metadata": {},
   "outputs": [
    {
     "name": "stdout",
     "output_type": "stream",
     "text": [
      "[34908986]\n",
      "[204171312101780]\n"
     ]
    }
   ],
   "source": [
    "race_time, record = input.splitlines()\n",
    "ts = list(map(int, race_time.split(\":\")[1].split()))\n",
    "rs = list(map(int, record.split(\":\")[1].split()))\n",
    "\n",
    "print(ts)\n",
    "print(rs)"
   ]
  },
  {
   "cell_type": "code",
   "execution_count": 8,
   "metadata": {},
   "outputs": [],
   "source": [
    "import timeit"
   ]
  },
  {
   "cell_type": "code",
   "execution_count": 10,
   "metadata": {},
   "outputs": [
    {
     "data": {
      "text/plain": [
       "1.33958999999777e-06"
      ]
     },
     "execution_count": 10,
     "metadata": {},
     "output_type": "execute_result"
    }
   ],
   "source": [
    "# j is seconds holding down button\n",
    "import math\n",
    "\n",
    "\n",
    "def get_range(n: float, lower=True) -> int:\n",
    "    if lower:\n",
    "        nr = math.ceil(n)\n",
    "        if nr == n:\n",
    "            return nr + 1\n",
    "    else:\n",
    "        nr = math.floor(n)\n",
    "        if nr == n:\n",
    "            return nr - 1\n",
    "    return nr\n",
    "\n",
    "\n",
    "def solution():\n",
    "    for t, r in zip(ts, rs):\n",
    "        js = sorted(calculate_j(t, r))\n",
    "        solution = get_range(js[1], lower=False) - get_range(js[0]) + 1\n",
    "        # print(f\"{js} {solution}\")\n",
    "\n",
    "\n",
    "runtime = timeit.timeit(solution, number=10000) / 10000\n",
    "print(f\"{runtime}\")"
   ]
  },
  {
   "cell_type": "code",
   "execution_count": null,
   "metadata": {},
   "outputs": [],
   "source": []
  }
 ],
 "metadata": {
  "kernelspec": {
   "display_name": "advent-of-code-uU6CASMp-py3.11",
   "language": "python",
   "name": "python3"
  },
  "language_info": {
   "codemirror_mode": {
    "name": "ipython",
    "version": 3
   },
   "file_extension": ".py",
   "mimetype": "text/x-python",
   "name": "python",
   "nbconvert_exporter": "python",
   "pygments_lexer": "ipython3",
   "version": "3.11.0"
  }
 },
 "nbformat": 4,
 "nbformat_minor": 2
}

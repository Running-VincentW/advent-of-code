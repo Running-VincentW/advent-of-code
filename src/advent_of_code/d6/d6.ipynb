{
 "cells": [
  {
   "cell_type": "code",
   "execution_count": 16,
   "metadata": {},
   "outputs": [
    {
     "name": "stdout",
     "output_type": "stream",
     "text": [
      "Values of j satisfying j * (T - j) > r:\n",
      "Solution 1: j = 20.00\n",
      "Solution 2: j = 10.00\n"
     ]
    }
   ],
   "source": [
    "import math\n",
    "\n",
    "\n",
    "def calculate_j(T, r):\n",
    "    discriminant = T**2 - 4 * r\n",
    "\n",
    "    if discriminant < 0:\n",
    "        return []  # No real roots within the range\n",
    "    elif discriminant == 0:\n",
    "        j = (T + math.sqrt(discriminant)) / 2\n",
    "        return [j]  # Exactly one solution\n",
    "    else:\n",
    "        j1 = (T + math.sqrt(discriminant)) / 2\n",
    "        j2 = (T - math.sqrt(discriminant)) / 2\n",
    "        return [j1, j2]  # Two solutions\n",
    "\n",
    "\n",
    "# Set the values\n",
    "T = 30\n",
    "r = 200\n",
    "\n",
    "# Calculate the values of j\n",
    "j_values = calculate_j(T, r)\n",
    "\n",
    "# Display the results\n",
    "print(\"Values of j satisfying j * (T - j) > r:\")\n",
    "if len(j_values) == 0:\n",
    "    print(\"No real solutions within the range.\")\n",
    "else:\n",
    "    for idx, j in enumerate(j_values, start=1):\n",
    "        print(f\"Solution {idx}: j = {j:.2f}\")\n"
   ]
  },
  {
   "cell_type": "code",
   "execution_count": 18,
   "metadata": {},
   "outputs": [],
   "source": [
    "input = \"\"\"Time:        34     90     89     86\n",
    "Distance:   204   1713   1210   1780\"\"\""
   ]
  },
  {
   "cell_type": "code",
   "execution_count": null,
   "metadata": {},
   "outputs": [],
   "source": [
    "part_2 = True\n",
    "if part_2:\n",
    "    new_input = \"\\n\".join(x.replace(\" \",\"\") for x in input.splitlines())"
   ]
  },
  {
   "cell_type": "code",
   "execution_count": 19,
   "metadata": {},
   "outputs": [
    {
     "name": "stdout",
     "output_type": "stream",
     "text": [
      "[34, 90, 89, 86]\n",
      "[204, 1713, 1210, 1780]\n"
     ]
    }
   ],
   "source": [
    "race_time, record = input.splitlines()\n",
    "ts = list(map(int, race_time.split(\":\")[1].split()))\n",
    "rs = list(map(int, record.split(\":\")[1].split()))\n",
    "\n",
    "print(ts)\n",
    "print(rs)"
   ]
  },
  {
   "cell_type": "code",
   "execution_count": 20,
   "metadata": {},
   "outputs": [
    {
     "name": "stdout",
     "output_type": "stream",
     "text": [
      "[7.780455542707113, 26.219544457292887] 19\n",
      "[27.336478267344305, 62.663521732655695] 35\n",
      "[16.746621827244166, 72.25337817275583] 56\n",
      "[34.69337613708193, 51.30662386291807] 17\n"
     ]
    }
   ],
   "source": [
    "# j is seconds holding down button\n",
    "import math\n",
    "\n",
    "def get_range(n: float, lower=True) -> int:\n",
    "    if lower:\n",
    "        nr = math.ceil(n)\n",
    "        if nr == n:\n",
    "            return nr + 1\n",
    "    else:\n",
    "        nr = math.floor(n)\n",
    "        if nr == n:\n",
    "            return nr - 1\n",
    "    return nr\n",
    "\n",
    "for t, r in zip(ts, rs):\n",
    "    js = sorted(calculate_j(t, r))\n",
    "    print(f\"{js} {get_range(js[1], lower=False) - get_range(js[0]) + 1}\")\n"
   ]
  },
  {
   "cell_type": "code",
   "execution_count": null,
   "metadata": {},
   "outputs": [],
   "source": []
  }
 ],
 "metadata": {
  "kernelspec": {
   "display_name": "advent-of-code-uU6CASMp-py3.11",
   "language": "python",
   "name": "python3"
  },
  "language_info": {
   "codemirror_mode": {
    "name": "ipython",
    "version": 3
   },
   "file_extension": ".py",
   "mimetype": "text/x-python",
   "name": "python",
   "nbconvert_exporter": "python",
   "pygments_lexer": "ipython3",
   "version": "3.11.0"
  }
 },
 "nbformat": 4,
 "nbformat_minor": 2
}
